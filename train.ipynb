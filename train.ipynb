{
 "cells": [
  {
   "cell_type": "code",
   "execution_count": null,
   "id": "65852a9e-0dda-4cbd-ad5b-aad5cdf31481",
   "metadata": {
    "scrolled": true
   },
   "outputs": [],
   "source": [
    "import torch\n",
    "from ultralytics import YOLO\n",
    "\n",
    "model = YOLO(\"yolov8n.yaml\")  # build a new model from scratch\n",
    "\n",
    "model.train(data=\"C:/Users/PC/Desktop/gpuproje/data.yaml\",epochs=100, plots=True, batch=16, imgsz=640, patience=20)  # train the model\n",
    "\n"
   ]
  },
  {
   "cell_type": "code",
   "execution_count": null,
   "id": "4b0a056c-0625-44fe-9906-deaa35354fb3",
   "metadata": {},
   "outputs": [],
   "source": [
    "model.predict(\"C:/Users/PC/Desktop/gpuproje/test/images\",save=True)"
   ]
  },
  {
   "cell_type": "code",
   "execution_count": null,
   "id": "5586840d-bdaa-44f7-aed2-a2efb7d7e1fc",
   "metadata": {},
   "outputs": [],
   "source": [
    "\n",
    "model = YOLO(\"C:/Users/PC/Desktop/gpuproje/runs/detect/train9/weights/best.pt\")\n",
    " \n",
    "model.predict(source=\"C:/Users/PC/Desktop/gpuproje/test/images\", save=True)"
   ]
  },
  {
   "cell_type": "code",
   "execution_count": null,
   "id": "f2439bf0-6cc1-42a3-8aff-ad93f404559a",
   "metadata": {},
   "outputs": [],
   "source": []
  },
  {
   "cell_type": "code",
   "execution_count": null,
   "id": "84d204e4-a6a6-4d36-9a07-cbac5896d06b",
   "metadata": {},
   "outputs": [],
   "source": []
  }
 ],
 "metadata": {
  "kernelspec": {
   "display_name": "Python 3 (ipykernel)",
   "language": "python",
   "name": "python3"
  },
  "language_info": {
   "codemirror_mode": {
    "name": "ipython",
    "version": 3
   },
   "file_extension": ".py",
   "mimetype": "text/x-python",
   "name": "python",
   "nbconvert_exporter": "python",
   "pygments_lexer": "ipython3",
   "version": "3.10.13"
  }
 },
 "nbformat": 4,
 "nbformat_minor": 5
}
